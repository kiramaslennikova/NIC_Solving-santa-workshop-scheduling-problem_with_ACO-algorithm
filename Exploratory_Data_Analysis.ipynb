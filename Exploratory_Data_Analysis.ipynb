{
  "cells": [
    {
      "cell_type": "markdown",
      "metadata": {
        "id": "cPEYQI_Qau_U"
      },
      "source": [
        "### At this stage, we will review the data loaded from the dataset, analyze it, put it into a convenient form for use and evaluate what needs to be taken into account when further working with the data."
      ]
    },
    {
      "cell_type": "code",
      "execution_count": 1,
      "metadata": {
        "id": "jPfZG22XaeTi"
      },
      "outputs": [],
      "source": [
        "import numpy as np\n",
        "import pandas as pd\n",
        "import csv\n",
        "import matplotlib.pyplot as plt\n",
        "import seaborn as sns\n",
        "from collections import Counter\n",
        "from collections import defaultdict\n",
        "import plotly.express as px"
      ]
    },
    {
      "cell_type": "code",
      "execution_count": 2,
      "metadata": {
        "colab": {
          "base_uri": "https://localhost:8080/",
          "height": 206
        },
        "id": "Q1tr0juhcBj9",
        "outputId": "231b2347-9d45-4fde-bf01-817f850ec9e0"
      },
      "outputs": [
        {
          "data": {
            "text/html": [
              "<div>\n",
              "<style scoped>\n",
              "    .dataframe tbody tr th:only-of-type {\n",
              "        vertical-align: middle;\n",
              "    }\n",
              "\n",
              "    .dataframe tbody tr th {\n",
              "        vertical-align: top;\n",
              "    }\n",
              "\n",
              "    .dataframe thead th {\n",
              "        text-align: right;\n",
              "    }\n",
              "</style>\n",
              "<table border=\"1\" class=\"dataframe\">\n",
              "  <thead>\n",
              "    <tr style=\"text-align: right;\">\n",
              "      <th></th>\n",
              "      <th>family_id</th>\n",
              "      <th>choice_0</th>\n",
              "      <th>choice_1</th>\n",
              "      <th>choice_2</th>\n",
              "      <th>choice_3</th>\n",
              "      <th>choice_4</th>\n",
              "      <th>choice_5</th>\n",
              "      <th>choice_6</th>\n",
              "      <th>choice_7</th>\n",
              "      <th>choice_8</th>\n",
              "      <th>choice_9</th>\n",
              "      <th>n_people</th>\n",
              "    </tr>\n",
              "  </thead>\n",
              "  <tbody>\n",
              "    <tr>\n",
              "      <th>0</th>\n",
              "      <td>0</td>\n",
              "      <td>52</td>\n",
              "      <td>38</td>\n",
              "      <td>12</td>\n",
              "      <td>82</td>\n",
              "      <td>33</td>\n",
              "      <td>75</td>\n",
              "      <td>64</td>\n",
              "      <td>76</td>\n",
              "      <td>10</td>\n",
              "      <td>28</td>\n",
              "      <td>4</td>\n",
              "    </tr>\n",
              "    <tr>\n",
              "      <th>1</th>\n",
              "      <td>1</td>\n",
              "      <td>26</td>\n",
              "      <td>4</td>\n",
              "      <td>82</td>\n",
              "      <td>5</td>\n",
              "      <td>11</td>\n",
              "      <td>47</td>\n",
              "      <td>38</td>\n",
              "      <td>6</td>\n",
              "      <td>66</td>\n",
              "      <td>61</td>\n",
              "      <td>4</td>\n",
              "    </tr>\n",
              "    <tr>\n",
              "      <th>2</th>\n",
              "      <td>2</td>\n",
              "      <td>100</td>\n",
              "      <td>54</td>\n",
              "      <td>25</td>\n",
              "      <td>12</td>\n",
              "      <td>27</td>\n",
              "      <td>82</td>\n",
              "      <td>10</td>\n",
              "      <td>89</td>\n",
              "      <td>80</td>\n",
              "      <td>33</td>\n",
              "      <td>3</td>\n",
              "    </tr>\n",
              "    <tr>\n",
              "      <th>3</th>\n",
              "      <td>3</td>\n",
              "      <td>2</td>\n",
              "      <td>95</td>\n",
              "      <td>1</td>\n",
              "      <td>96</td>\n",
              "      <td>32</td>\n",
              "      <td>6</td>\n",
              "      <td>40</td>\n",
              "      <td>31</td>\n",
              "      <td>9</td>\n",
              "      <td>59</td>\n",
              "      <td>2</td>\n",
              "    </tr>\n",
              "    <tr>\n",
              "      <th>4</th>\n",
              "      <td>4</td>\n",
              "      <td>53</td>\n",
              "      <td>1</td>\n",
              "      <td>47</td>\n",
              "      <td>93</td>\n",
              "      <td>26</td>\n",
              "      <td>3</td>\n",
              "      <td>46</td>\n",
              "      <td>16</td>\n",
              "      <td>42</td>\n",
              "      <td>39</td>\n",
              "      <td>4</td>\n",
              "    </tr>\n",
              "  </tbody>\n",
              "</table>\n",
              "</div>"
            ],
            "text/plain": [
              "   family_id  choice_0  choice_1  choice_2  choice_3  choice_4  choice_5  \\\n",
              "0          0        52        38        12        82        33        75   \n",
              "1          1        26         4        82         5        11        47   \n",
              "2          2       100        54        25        12        27        82   \n",
              "3          3         2        95         1        96        32         6   \n",
              "4          4        53         1        47        93        26         3   \n",
              "\n",
              "   choice_6  choice_7  choice_8  choice_9  n_people  \n",
              "0        64        76        10        28         4  \n",
              "1        38         6        66        61         4  \n",
              "2        10        89        80        33         3  \n",
              "3        40        31         9        59         2  \n",
              "4        46        16        42        39         4  "
            ]
          },
          "execution_count": 2,
          "metadata": {},
          "output_type": "execute_result"
        }
      ],
      "source": [
        "data_filename = 'dataset/family_data.csv'\n",
        "df = pd.read_csv(data_filename)\n",
        "df.head()"
      ]
    },
    {
      "cell_type": "code",
      "execution_count": 3,
      "metadata": {
        "colab": {
          "base_uri": "https://localhost:8080/"
        },
        "id": "7orkc3LBayde",
        "outputId": "53d2d270-a142-42d9-cf2a-fc4fb8be0a63"
      },
      "outputs": [
        {
          "data": {
            "text/plain": [
              "{'family_id': '0',\n",
              " 'choice_0': '52',\n",
              " 'choice_1': '38',\n",
              " 'choice_2': '12',\n",
              " 'choice_3': '82',\n",
              " 'choice_4': '33',\n",
              " 'choice_5': '75',\n",
              " 'choice_6': '64',\n",
              " 'choice_7': '76',\n",
              " 'choice_8': '10',\n",
              " 'choice_9': '28',\n",
              " 'n_people': '4'}"
            ]
          },
          "execution_count": 3,
          "metadata": {},
          "output_type": "execute_result"
        }
      ],
      "source": [
        "data_filename = 'dataset/family_data.csv'\n",
        "with open(data_filename) as f:\n",
        "    reader = csv.DictReader(f)\n",
        "    family_dict = list(reader)\n",
        "\n",
        "family_dict[0]"
      ]
    },
    {
      "cell_type": "markdown",
      "metadata": {
        "id": "Akjv1yjL7JRl"
      },
      "source": [
        "### For further work it will be much more convenient to use an ordered list of desired dates, rather than each time accessing the dictionary by the key 'choice_i'"
      ]
    },
    {
      "cell_type": "code",
      "execution_count": 4,
      "metadata": {
        "colab": {
          "base_uri": "https://localhost:8080/"
        },
        "id": "TfpnL4aYcb1s",
        "outputId": "43af8574-c109-4c08-bfee-4b98166e259b"
      },
      "outputs": [
        {
          "data": {
            "text/plain": [
              "{'id': 0, 'n_members': 4, 'dates': [52, 38, 12, 82, 33, 75, 64, 76, 10, 28]}"
            ]
          },
          "execution_count": 4,
          "metadata": {},
          "output_type": "execute_result"
        }
      ],
      "source": [
        "family_dataset = []\n",
        "for family in family_dict:\n",
        "  family_data = dict()\n",
        "  family_data['id'] = int(family['family_id'])\n",
        "  family_data['n_members'] = int(family['n_people'])\n",
        "  choise_list = []\n",
        "  for i in range(10):\n",
        "    choise_list.append(int(family['choice_' + str(i)]))\n",
        "  family_data['dates'] = choise_list\n",
        "  family_dataset.append(family_data)\n",
        "family_dataset[0]\n"
      ]
    },
    {
      "cell_type": "markdown",
      "metadata": {
        "id": "4cf4Cfnt7xd3"
      },
      "source": [
        "First, let's check how many families and with what number of members are present in the dataset. Let's determine the total number of visitors."
      ]
    },
    {
      "cell_type": "code",
      "execution_count": 5,
      "metadata": {
        "colab": {
          "base_uri": "https://localhost:8080/"
        },
        "id": "Y4H_9HAchDRs",
        "outputId": "17ed454a-0c0e-4089-86c0-33ec767d624e"
      },
      "outputs": [
        {
          "name": "stdout",
          "output_type": "stream",
          "text": [
            "Families with 2 members: 717\n",
            "Families with 3 members: 981\n",
            "Families with 4 members: 1451\n",
            "Families with 5 members: 899\n",
            "Families with 6 members: 494\n",
            "Families with 7 members: 301\n",
            "Families with 8 members: 157\n",
            "\n",
            "Total number of visitors: 21003\n"
          ]
        }
      ],
      "source": [
        "num_of_members = dict()\n",
        "for family in family_dataset:\n",
        "  if family['n_members'] in num_of_members.keys() :\n",
        "    num_of_members[family['n_members']] += 1\n",
        "  else:\n",
        "    num_of_members[family['n_members']] = 1\n",
        "\n",
        "total_visitors = 0\n",
        "for k, v in sorted(num_of_members.items()):\n",
        "  print(\"Families with\",  k, \"members:\", v)\n",
        "  total_visitors += v * k\n",
        "print()\n",
        "print(\"Total number of visitors:\", total_visitors)"
      ]
    },
    {
      "cell_type": "markdown",
      "metadata": {
        "id": "pgRm90v1-plD"
      },
      "source": [
        "### Number of families selecting each day (by priority)\n",
        "\n",
        "The data is prepared. Let's start the analysis by identifying the most popular days for visiting. A graph of the number of people wishing to visit Santa is plotted. Lines of different colors indicate the family priority number. Analyzing the graph, we notice:\n",
        "1. Some days have a particularly low value of possible visitors\n",
        "2. The graph has a decreasing trend with distance from Christmas.\n",
        "The second sign is quite understandable - visiting Santa is more popular as Christmas approaches, which means that the lower the number, the more people want to.\n",
        "Let's figure out why the first conclusion arose."
      ]
    },
    {
      "cell_type": "code",
      "execution_count": 6,
      "metadata": {
        "colab": {
          "base_uri": "https://localhost:8080/",
          "height": 564
        },
        "id": "Mm09KmX_rdeH",
        "outputId": "7c0f3ca3-7a2c-4b3b-cc78-2b78ace1a60c"
      },
      "outputs": [
        {
          "data": {
            "image/png": "[encoded data removed]",
            "text/plain": [
              "<Figure size 864x432 with 1 Axes>"
            ]
          },
          "metadata": {
            "needs_background": "light"
          },
          "output_type": "display_data"
        }
      ],
      "source": [
        "priority_counts = defaultdict(lambda: defaultdict(int))\n",
        "\n",
        "for family in family_dataset:\n",
        "    for priority, date in enumerate(family['dates']):\n",
        "        priority_counts[priority][date] += 1\n",
        "\n",
        "plt.figure(figsize=(12, 6))\n",
        "colors = sns.color_palette(\"tab10\", 10)\n",
        "\n",
        "for priority in range(10):\n",
        "    dates = sorted(priority_counts[priority].keys())\n",
        "    counts = [priority_counts[priority][date] for date in dates]\n",
        "    plt.plot(dates, counts, label=f'Priority {priority}', color=colors[priority])\n",
        "\n",
        "plt.xlabel(\"Date\")\n",
        "plt.ylabel(\"Number of families\")\n",
        "plt.title(\"Number of families selecting each day (by priority)\")\n",
        "plt.legend()\n",
        "plt.grid(True)\n",
        "plt.show()\n"
      ]
    },
    {
      "cell_type": "markdown",
      "metadata": {
        "id": "aKxNte18Aomm"
      },
      "source": [
        "### Number of people selecting a day (by priority) - On 10 different graphs\n",
        "\n",
        "For a more thorough analysis, we will build a separate graph for each priority.\n",
        "From the graph we see that every four days the popularity decreases, and then rises again for the next 3 days. The most likely reason is the days of the week. From Monday to Thursday the popularity decreases, since most adults work. And from Friday to Sunday - it increases sharply"
      ]
    },
    {
      "cell_type": "code",
      "execution_count": 7,
      "metadata": {
        "colab": {
          "base_uri": "https://localhost:8080/",
          "height": 542
        },
        "id": "3OtHycLkxMU4",
        "outputId": "762dfb30-d979-48bc-97dd-daf7e4afdf6c"
      },
      "outputs": [
        {
          "data": {
            "application/vnd.plotly.v1+json": {
              "config": {
                "plotlyServerURL": "https://plot.ly"
              },
              "data": [
                {
                  "hovertemplate": "Priority=Priority 0<br>Date=%{x}<br>Number of people=%{y}<extra></extra>",
                  "legendgroup": "",
                  "marker": {
                    "color": "lightblue",
                    "pattern": {
                      "shape": ""
                    }
                  },
                  "name": "",
                  "orientation": "v",
                  "showlegend": false,
                  "textposition": "auto",
                  "type": "bar",
                  "x": {
                    "bdata": "NBpkAjUgWBkSAWATNi0WLi9LAzg9EDomUVlEShgfDw0KCzEFIUMcJV5bDCdCUhQRCR05F1UiPE1FBF8OTDtAP1coVBVQBzIrNzMkMEldXB4IG1ZaYwZGTiNTYj4qLEEpYUdPSA==",
                    "dtype": "i1"
                  },
                  "xaxis": "x",
                  "y": {
                    "bdata": "UgFyASsAygD8AGYBKwGiATgBKAYmAWQBSgFeAaIALwFGAQsBnAFtAPoAvwCKACEBOAEuAesA2QBTAWUBrACeAGoBiQGCAGYBewETAZEAYAD/AEsAtQE8ATYB/ACbALEBowC/AGYAxABFAGoAQAE5ADcAewEDAdEAIwBeAR8AMQBBATABOAB+AOQApgBcAI4AXQCWAHYApwDwACsAHAB/AKAA6AA2ADsAOQCEACIAMgBoADYAOAAwAIUAZgAsAHwALQAyACcALgA=",
                    "dtype": "i2"
                  },
                  "yaxis": "y"
                }
              ],
              "frames": [
                {
                  "data": [
                    {
                      "hovertemplate": "Priority=Priority 0<br>Date=%{x}<br>Number of people=%{y}<extra></extra>",
                      "legendgroup": "",
                      "marker": {
                        "color": "lightblue",
                        "pattern": {
                          "shape": ""
                        }
                      },
                      "name": "",
                      "orientation": "v",
                      "showlegend": false,
                      "textposition": "auto",
                      "type": "bar",
                      "x": {
                        "bdata": "NBpkAjUgWBkSAWATNi0WLi9LAzg9EDomUVlEShgfDw0KCzEFIUMcJV5bDCdCUhQRCR05F1UiPE1FBF8OTDtAP1coVBVQBzIrNzMkMEldXB4IG1ZaYwZGTiNTYj4qLEEpYUdPSA==",
                        "dtype": "i1"
                      },
                      "xaxis": "x",
                      "y": {
                        "bdata": "UgFyASsAygD8AGYBKwGiATgBKAYmAWQBSgFeAaIALwFGAQsBnAFtAPoAvwCKACEBOAEuAesA2QBTAWUBrACeAGoBiQGCAGYBewETAZEAYAD/AEsAtQE8ATYB/ACbALEBowC/AGYAxABFAGoAQAE5ADcAewEDAdEAIwBeAR8AMQBBATABOAB+AOQApgBcAI4AXQCWAHYApwDwACsAHAB/AKAA6AA2ADsAOQCEACIAMgBoADYAOAAwAIUAZgAsAHwALQAyACcALgA=",
                        "dtype": "i2"
                      },
                      "yaxis": "y"
                    }
                  ],
                  "name": "Priority 0"
                },
                {
                  "data": [
                    {
                      "hovertemplate": "Priority=Priority 1<br>Date=%{x}<br>Number of people=%{y}<extra></extra>",
                      "legendgroup": "",
                      "marker": {
                        "color": "lightblue",
                        "pattern": {
                          "shape": ""
                        }
                      },
                      "name": "",
                      "orientation": "v",
                      "showlegend": false,
                      "textposition": "auto",
                      "type": "bar",
                      "x": {
                        "bdata": "JgQ2XwE7CzxYXEtiNBkyVwwhUhsINQdgUUQJBVkTLRoWRQIgDydJQl5VLhxPHyUvDQoRGBcdHikUOigqK0o9VlRdNyISMyNkLFoGR1ADJA4QOEBDYxUxPk5IW2FNMEFMRjk/Uw==",
                        "dtype": "i1"
                      },
                      "xaxis": "x",
                      "y": {
                        "bdata": "GAGQAUABBwHGBVEBxgEYAfkAQgALATUAYAEqAX4AVgFUAUsBAQGJALgAIQGzABMBMQEyAaYAvQEEAWoBNQGGAYgAHQCDADIBmQArAUEBMgFEAUEAQgHgAEAAXgGDAHYBtgCHAY8BagGrALQAiQCAAIQAgwAnAWgAYQAiAewAhAAuADQAVQCBAKsBkACLACkAaABGAIsAMwD1AB0BTACxAI0AcQA2ADsBQACmAHEAUwBTACUAWQAgAEMAawA9ACwALQBfABMAPwA=",
                        "dtype": "i2"
                      },
                      "yaxis": "y"
                    }
                  ],
                  "name": "Priority 1"
                },
                {
                  "data": [
                    {
                      "hovertemplate": "Priority=Priority 2<br>Date=%{x}<br>Number of people=%{y}<extra></extra>",
                      "legendgroup": "",
                      "marker": {
                        "color": "lightblue",
                        "pattern": {
                          "shape": ""
                        }
                      },
                      "name": "",
                      "orientation": "v",
                      "showlegend": false,
                      "textposition": "auto",
                      "type": "bar",
                      "x": {
                        "bdata": "DFIZAS80Jwg1IkoFES0SGAQ2OQ8oYjtcByAuQxUrTEkGUF89WBNEFE5eC0caQhAKDhxTITANMyMfOiVXJEgDHSoCWxssMTdhSzxBFlE4Jh5ZYCkXRV1NYz8+MlZVTwlkWkZUQA==",
                        "dtype": "i1"
                      },
                      "xaxis": "x",
                      "y": {
                        "bdata": "gwEHAcABOQUtATwBZwGVAGUBRAAYAXoBhQFxAT8B1AFxAXEBgACnAFEBMABNAUIA/QCEATcB7ACZAHoANwAJAXwAQQEzASIBMgFfAdQAhABOAP0AYgFOANkB3QCrAHkBmwCkACkAFAFtAOEAcQBvAGUBXQB7AAkBdABBAEQBuABOAKgAMAB7AJUAfACtADwAOAErASYAvAAeAVIARAF0ANkALAGTAKYANQAYAC8AJwBHADcAbQBeADIAUgCoAD4ALQAbAEEAOQA=",
                        "dtype": "i2"
                      },
                      "yaxis": "y"
                    }
                  ],
                  "name": "Priority 2"
                },
                {
                  "data": [
                    {
                      "hovertemplate": "Priority=Priority 3<br>Date=%{x}<br>Number of people=%{y}<extra></extra>",
                      "legendgroup": "",
                      "marker": {
                        "color": "lightblue",
                        "pattern": {
                          "shape": ""
                        }
                      },
                      "name": "",
                      "orientation": "v",
                      "showlegend": false,
                      "textposition": "auto",
                      "type": "bar",
                      "x": {
                        "bdata": "UgUMYF0DMDIsATUmChFERUkEGSsVNDs2PVcaIwgtKDdLRkIgJxscIT8dOhYYSEMiJR9ZWAkuLxdeD1BRElM8AlUkE2MHM0pfOCpcMQspZGFUFEc+EA05Dh5aQEEGTWJMT1ZOWw==",
                        "dtype": "i1"
                      },
                      "xaxis": "x",
                      "y": {
                        "bdata": "5ACBAbYBNAFIACwBcABdAHsA9wRqAWQBXQGwAQ0BQwAcAW0BKgFyAMAAJQExATwBKQEdARQBjgCJAEEBdAFXACwBMABbAUYBSAGSAKcALQFCAKcAgwChAJEBQAADAWMAYQBHAVsBNwHAAHkBewGuAOMAswD8ACABqQFTABYB1ABWAGEAkgE1AMsAcADnAAABbAB9AEMAZACyAWQALgAuACYAyAAVADoAogCpADoAqgBOAD0ASABCAMEATwBRAEkAUgAqADEATQA=",
                        "dtype": "i2"
                      },
                      "yaxis": "y"
                    }
                  ],
                  "name": "Priority 3"
                },
                {
                  "data": [
                    {
                      "hovertemplate": "Priority=Priority 4<br>Date=%{x}<br>Number of people=%{y}<extra></extra>",
                      "legendgroup": "",
                      "marker": {
                        "color": "lightblue",
                        "pattern": {
                          "shape": ""
                        }
                      },
                      "name": "",
                      "orientation": "v",
                      "showlegend": false,
                      "textposition": "auto",
                      "type": "bar",
                      "x": {
                        "bdata": "IQsbIBo8WwpZQwInAVgFNAQHHyYDQi1QS0QPEy9JIy5RUjZfDBkcFl4SQBc9TysQDko6JDFXRhFkDWFgOxgoHTMVVDAiCFo4KlNNMjVVLB45CV0/VgYpYyU+QRRMTmJHN0VcSA==",
                        "dtype": "i1"
                      },
                      "xaxis": "x",
                      "y": {
                        "bdata": "UAFiAYsASgG4AfMALQBvASQB9ADWADsBewT/AG0B+gBwAZsAWgGPAZIBAwF0AVsBPAEIAaUAkgFbAQ8BegBkAQABUgFlATkBqgGIAasApwAoAVUBHQCWADcBPwBkALsAowAZAW8ATgB3ACQBLwCVAVQA4AAxABABTgFmATgBmwCHAH0APwCtAGkAiABLAHoAagBSAEAAnQA3ATsAiwCUAHAAmwBCACAAPQDZAGYAJABIADUAHgC+AFcARgA7ACsASAA/ACAAKwA=",
                        "dtype": "i2"
                      },
                      "yaxis": "y"
                    }
                  ],
                  "name": "Priority 4"
                },
                {
                  "data": [
                    {
                      "hovertemplate": "Priority=Priority 5<br>Date=%{x}<br>Number of people=%{y}<extra></extra>",
                      "legendgroup": "",
                      "marker": {
                        "color": "lightblue",
                        "pattern": {
                          "shape": ""
                        }
                      },
                      "name": "",
                      "orientation": "v",
                      "showlegend": false,
                      "textposition": "auto",
                      "type": "bar",
                      "x": {
                        "bdata": "Sy9SBgMaIBEhEgxEQzwQOkooDUkECjRiPicsORw9WFofOwUwXjU4F1kxXFEZZAFXIxUIFhgTYwkiRkguLQ4LNmAbPylCYSZUTCQlAg8rHV83FDJBTh5dBypWUEBbVUVTR00zTw==",
                        "dtype": "i1"
                      },
                      "xaxis": "x",
                      "y": {
                        "bdata": "CAFIAQMBowCZAX4BUAFoAWoBJAFTASYBJAH8AHgAogDhAHABqgAFAXcBZwF9AT8ATQA2AXcAewCmABwBGwFMAEoBTgGJAXcACgGWAWcAuABfAY0ASAA3AWMBPwAFBCABiwCcAPIAugB/AXQBUwDTAKIAPwBcAFUBaQG7ADYBGQElAcEAPQCKABABVQA9ATIAYAB3AFMAtgCVAHgAowANAWIA7gB0AD0ALgB4ADAArgByADUACQFCAEQANABFACYARAAtAE0AHQA=",
                        "dtype": "i2"
                      },
                      "yaxis": "y"
                    }
                  ],
                  "name": "Priority 5"
                },
                {
                  "data": [
                    {
                      "hovertemplate": "Priority=Priority 6<br>Date=%{x}<br>Number of people=%{y}<extra></extra>",
                      "legendgroup": "",
                      "marker": {
                        "color": "lightblue",
                        "pattern": {
                          "shape": ""
                        }
                      },
                      "name": "",
                      "orientation": "v",
                      "showlegend": false,
                      "textposition": "auto",
                      "type": "bar",
                      "x": {
                        "bdata": "QCYKKC4jJ1gQYDk1VwFLB08xGVBcAwkhNi8dYTtfNAhCURggXgQ8NwVZC0oNEQ4bSRdDODotPQwaPytOKU0fD1IWRSwGFBITVBVaImMwHD4CSGIzVSVHMh5WTGQkUypERkFbXQ==",
                        "dtype": "i1"
                      },
                      "xaxis": "x",
                      "y": {
                        "bdata": "NQB8AdcBDAE7AV0AcwEuAcwAGwF6AGcB7ADqAxIBmQBRAFwAggE9AR0AnwGZAGEBFAFdAdoASgBUARwBWwGUAAcBLwGMAScB+QDdAfgAYACRARgBfQEXAZQAhAG8AL8AOwG7AF4BaQCWAEUBHwFdAZcBNACGADoArAA3ABkBjgAIAcUANwCIAJgAoQCSAV0BNwB9AD8AfAA3AH8AugBOAHkAPgAvAJYALgCIAD4AaABvADsAOgA6AGcAKABZADUBXAAgADkAJgA=",
                        "dtype": "i2"
                      },
                      "yaxis": "y"
                    }
                  ],
                  "name": "Priority 6"
                },
                {
                  "data": [
                    {
                      "hovertemplate": "Priority=Priority 7<br>Date=%{x}<br>Number of people=%{y}<extra></extra>",
                      "legendgroup": "",
                      "marker": {
                        "color": "lightblue",
                        "pattern": {
                          "shape": ""
                        }
                      },
                      "name": "",
                      "orientation": "v",
                      "showlegend": false,
                      "textposition": "auto",
                      "type": "bar",
                      "x": {
                        "bdata": "TAZZHxAyOQovIhgMBAEVPSwmEV4CCwUJEkEaLmA0NzwhUE8oHTtSVC02NUNEAxYqE1FcJBxFQkpJKwgNVzgbBzEgFB5WJzAjW2QOF0dAS2FfMyVIRg9OPlg6TRlTYilVP1pjXQ==",
                        "dtype": "i1"
                      },
                      "xaxis": "x",
                      "y": {
                        "bdata": "WgCoAE0BJgGZAG8AggDEAVkBdgB3AWcBWQEdBJoACAFzAFUBVAFgAckAYgF6Ac0AmQEyAHgBMwEpAZgBhwD9AC8BPQFRAE4BkwB/ARkBJwApAVsBcgHrANwAZQGiAJEAFgH7ADIAbACdAEoAAgEmAToBZADGAJkAWQF4AL4ApQBqAGEBuQCVAEAAhgF0AIwAQABHAMAAmgAwAE0ADQEsABEBaQCFAE4ANwCuADkAWQAHAW0AQgCAAUYARgBqADsAPgAdACIAGwA=",
                        "dtype": "i2"
                      },
                      "yaxis": "y"
                    }
                  ],
                  "name": "Priority 7"
                },
                {
                  "data": [
                    {
                      "hovertemplate": "Priority=Priority 8<br>Date=%{x}<br>Number of people=%{y}<extra></extra>",
                      "legendgroup": "",
                      "marker": {
                        "color": "lightblue",
                        "pattern": {
                          "shape": ""
                        }
                      },
                      "name": "",
                      "orientation": "v",
                      "showlegend": false,
                      "textposition": "auto",
                      "type": "bar",
                      "x": {
                        "bdata": "CkJQCSoFHF81LgdBC1kSJlFhO0kTDhotGBkhFzYzFRFeJyNLUlcvGylUBFgDHz0dFmAgRjFNMjoMATk0Nz5APFZkKA9MEENIMEpiFAY4K04IR0UkJUQCDVVcP1MiLGNbHlpdTw==",
                        "dtype": "i1"
                      },
                      "xaxis": "x",
                      "y": {
                        "bdata": "ugEkAf8A0ABmAHkBhwAcAUoBqwHqADgAfQEiAacBUgEwATsAVgERAXEBhABvAU0BZgGQAVcBoABUAVYA0QCVASQBWQF8AEIB/wDrAHUBtACdACMAtQEFAYkBRwEDAbUAhQA7AVcBVACUAE8AfwCDAIgBPgN7AAoBZABmAEQANgE7AEkAKAHVADkAkAAVARwAdgAGASYAjQCjAHAAmwAzAL8AIQA/AHkAkAAJAdkAoAA7AEsAHwBUAGQAZgApAEUAdwBAACYAOwA=",
                        "dtype": "i2"
                      },
                      "yaxis": "y"
                    }
                  ],
                  "name": "Priority 8"
                },
                {
                  "data": [
                    {
                      "hovertemplate": "Priority=Priority 9<br>Date=%{x}<br>Number of people=%{y}<extra></extra>",
                      "legendgroup": "",
                      "marker": {
                        "color": "lightblue",
                        "pattern": {
                          "shape": ""
                        }
                      },
                      "name": "",
                      "orientation": "v",
                      "showlegend": false,
                      "textposition": "auto",
                      "type": "bar",
                      "x": {
                        "bdata": "HD0hOycCY0JDLl5fOR0ZEURkSgwWEAUSCDUmM1sTLy0kCxQxCmADIA1GWUsBHh9QND43Dw5JSCNhGBdNKAQJVVdANgZiMDo8GkFSUSIpWCVcVDhMMk8bXSoVKwdFWiw/U0dOVg==",
                        "dtype": "i1"
                      },
                      "xaxis": "x",
                      "y": {
                        "bdata": "wwBQAZIBQwF2AZ4ARQBaAT0BMgEgAUcBdwC7AIcBfQH1ADgAFAFJAeAAqwCrAWUBwwCiATwBugA/AO8BSwFWAYYAcQGtAIIABQESATYBIgHdADoAEgEIAU0DVwCDASQBfQEpAHkAvgB2AAsBNgCNAC4AgQGZAFkAZgFlAcUAKgDbAD0AewGyADYAVwCUAC0BlAFDAOAA7QBdAL8AygBTADQAUwCMAEYAXgAsAIMASQCAAMkAYACoAFUANgB9AFEAOwA7ACYAIwA=",
                        "dtype": "i2"
                      },
                      "yaxis": "y"
                    }
                  ],
                  "name": "Priority 9"
                }
              ],
              "layout": {
                "barmode": "relative",
                "font": {
                  "size": 14
                },
                "legend": {
                  "tracegroupgap": 0
                },
                "sliders": [
                  {
                    "active": 0,
                    "currentvalue": {
                      "prefix": "Priority="
                    },
                    "len": 0.9,
                    "pad": {
                      "b": 10,
                      "t": 60
                    },
                    "steps": [
                      {
                        "args": [
                          [
                            "Priority 0"
                          ],
                          {
                            "frame": {
                              "duration": 0,
                              "redraw": true
                            },
                            "fromcurrent": true,
                            "mode": "immediate",
                            "transition": {
                              "duration": 0,
                              "easing": "linear"
                            }
                          }
                        ],
                        "label": "Priority 0",
                        "method": "animate"
                      },
                      {
                        "args": [
                          [
                            "Priority 1"
                          ],
                          {
                            "frame": {
                              "duration": 0,
                              "redraw": true
                            },
                            "fromcurrent": true,
                            "mode": "immediate",
                            "transition": {
                              "duration": 0,
                              "easing": "linear"
                            }
                          }
                        ],
                        "label": "Priority 1",
                        "method": "animate"
                      },
                      {
                        "args": [
                          [
                            "Priority 2"
                          ],
                          {
                            "frame": {
                              "duration": 0,
                              "redraw": true
                            },
                            "fromcurrent": true,
                            "mode": "immediate",
                            "transition": {
                              "duration": 0,
                              "easing": "linear"
                            }
                          }
                        ],
                        "label": "Priority 2",
                        "method": "animate"
                      },
                      {
                        "args": [
                          [
                            "Priority 3"
                          ],
                          {
                            "frame": {
                              "duration": 0,
                              "redraw": true
                            },
                            "fromcurrent": true,
                            "mode": "immediate",
                            "transition": {
                              "duration": 0,
                              "easing": "linear"
                            }
                          }
                        ],
                        "label": "Priority 3",
                        "method": "animate"
                      },
                      {
                        "args": [
                          [
                            "Priority 4"
                          ],
                          {
                            "frame": {
                              "duration": 0,
                              "redraw": true
                            },
                            "fromcurrent": true,
                            "mode": "immediate",
                            "transition": {
                              "duration": 0,
                              "easing": "linear"
                            }
                          }
                        ],
                        "label": "Priority 4",
                        "method": "animate"
                      },
                      {
                        "args": [
                          [
                            "Priority 5"
                          ],
                          {
                            "frame": {
                              "duration": 0,
                              "redraw": true
                            },
                            "fromcurrent": true,
                            "mode": "immediate",
                            "transition": {
                              "duration": 0,
                              "easing": "linear"
                            }
                          }
                        ],
                        "label": "Priority 5",
                        "method": "animate"
                      },
                      {
                        "args": [
                          [
                            "Priority 6"
                          ],
                          {
                            "frame": {
                              "duration": 0,
                              "redraw": true
                            },
                            "fromcurrent": true,
                            "mode": "immediate",
                            "transition": {
                              "duration": 0,
                              "easing": "linear"
                            }
                          }
                        ],
                        "label": "Priority 6",
                        "method": "animate"
                      },
                      {
                        "args": [
                          [
                            "Priority 7"
                          ],
                          {
                            "frame": {
                              "duration": 0,
                              "redraw": true
                            },
                            "fromcurrent": true,
                            "mode": "immediate",
                            "transition": {
                              "duration": 0,
                              "easing": "linear"
                            }
                          }
                        ],
                        "label": "Priority 7",
                        "method": "animate"
                      },
                      {
                        "args": [
                          [
                            "Priority 8"
                          ],
                          {
                            "frame": {
                              "duration": 0,
                              "redraw": true
                            },
                            "fromcurrent": true,
                            "mode": "immediate",
                            "transition": {
                              "duration": 0,
                              "easing": "linear"
                            }
                          }
                        ],
                        "label": "Priority 8",
                        "method": "animate"
                      },
                      {
                        "args": [
                          [
                            "Priority 9"
                          ],
                          {
                            "frame": {
                              "duration": 0,
                              "redraw": true
                            },
                            "fromcurrent": true,
                            "mode": "immediate",
                            "transition": {
                              "duration": 0,
                              "easing": "linear"
                            }
                          }
                        ],
                        "label": "Priority 9",
                        "method": "animate"
                      }
                    ],
                    "x": 0.1,
                    "xanchor": "left",
                    "y": 0,
                    "yanchor": "top"
                  }
                ],
                "template": {
                  "data": {
                    "bar": [
                      {
                        "error_x": {
                          "color": "#f2f5fa"
                        },
                        "error_y": {
                          "color": "#f2f5fa"
                        },
                        "marker": {
                          "line": {
                            "color": "rgb(17,17,17)",
                            "width": 0.5
                          },
                          "pattern": {
                            "fillmode": "overlay",
                            "size": 10,
                            "solidity": 0.2
                          }
                        },
                        "type": "bar"
                      }
                    ],
                    "barpolar": [
                      {
                        "marker": {
                          "line": {
                            "color": "rgb(17,17,17)",
                            "width": 0.5
                          },
                          "pattern": {
                            "fillmode": "overlay",
                            "size": 10,
                            "solidity": 0.2
                          }
                        },
                        "type": "barpolar"
                      }
                    ],
                    "carpet": [
                      {
                        "aaxis": {
                          "endlinecolor": "#A2B1C6",
                          "gridcolor": "#506784",
                          "linecolor": "#506784",
                          "minorgridcolor": "#506784",
                          "startlinecolor": "#A2B1C6"
                        },
                        "baxis": {
                          "endlinecolor": "#A2B1C6",
                          "gridcolor": "#506784",
                          "linecolor": "#506784",
                          "minorgridcolor": "#506784",
                          "startlinecolor": "#A2B1C6"
                        },
                        "type": "carpet"
                      }
                    ],
                    "choropleth": [
                      {
                        "colorbar": {
                          "outlinewidth": 0,
                          "ticks": ""
                        },
                        "type": "choropleth"
                      }
                    ],
                    "contour": [
                      {
                        "colorbar": {
                          "outlinewidth": 0,
                          "ticks": ""
                        },
                        "colorscale": [
                          [
                            0,
                            "#0d0887"
                          ],
                          [
                            0.1111111111111111,
                            "#46039f"
                          ],
                          [
                            0.2222222222222222,
                            "#7201a8"
                          ],
                          [
                            0.3333333333333333,
                            "#9c179e"
                          ],
                          [
                            0.4444444444444444,
                            "#bd3786"
                          ],
                          [
                            0.5555555555555556,
                            "#d8576b"
                          ],
                          [
                            0.6666666666666666,
                            "#ed7953"
                          ],
                          [
                            0.7777777777777778,
                            "#fb9f3a"
                          ],
                          [
                            0.8888888888888888,
                            "#fdca26"
                          ],
                          [
                            1,
                            "#f0f921"
                          ]
                        ],
                        "type": "contour"
                      }
                    ],
                    "contourcarpet": [
                      {
                        "colorbar": {
                          "outlinewidth": 0,
                          "ticks": ""
                        },
                        "type": "contourcarpet"
                      }
                    ],
                    "heatmap": [
                      {
                        "colorbar": {
                          "outlinewidth": 0,
                          "ticks": ""
                        },
                        "colorscale": [
                          [
                            0,
                            "#0d0887"
                          ],
                          [
                            0.1111111111111111,
                            "#46039f"
                          ],
                          [
                            0.2222222222222222,
                            "#7201a8"
                          ],
                          [
                            0.3333333333333333,
                            "#9c179e"
                          ],
                          [
                            0.4444444444444444,
                            "#bd3786"
                          ],
                          [
                            0.5555555555555556,
                            "#d8576b"
                          ],
                          [
                            0.6666666666666666,
                            "#ed7953"
                          ],
                          [
                            0.7777777777777778,
                            "#fb9f3a"
                          ],
                          [
                            0.8888888888888888,
                            "#fdca26"
                          ],
                          [
                            1,
                            "#f0f921"
                          ]
                        ],
                        "type": "heatmap"
                      }
                    ],
                    "histogram": [
                      {
                        "marker": {
                          "pattern": {
                            "fillmode": "overlay",
                            "size": 10,
                            "solidity": 0.2
                          }
                        },
                        "type": "histogram"
                      }
                    ],
                    "histogram2d": [
                      {
                        "colorbar": {
                          "outlinewidth": 0,
                          "ticks": ""
                        },
                        "colorscale": [
                          [
                            0,
                            "#0d0887"
                          ],
                          [
                            0.1111111111111111,
                            "#46039f"
                          ],
                          [
                            0.2222222222222222,
                            "#7201a8"
                          ],
                          [
                            0.3333333333333333,
                            "#9c179e"
                          ],
                          [
                            0.4444444444444444,
                            "#bd3786"
                          ],
                          [
                            0.5555555555555556,
                            "#d8576b"
                          ],
                          [
                            0.6666666666666666,
                            "#ed7953"
                          ],
                          [
                            0.7777777777777778,
                            "#fb9f3a"
                          ],
                          [
                            0.8888888888888888,
                            "#fdca26"
                          ],
                          [
                            1,
                            "#f0f921"
                          ]
                        ],
                        "type": "histogram2d"
                      }
                    ],
                    "histogram2dcontour": [
                      {
                        "colorbar": {
                          "outlinewidth": 0,
                          "ticks": ""
                        },
                        "colorscale": [
                          [
                            0,
                            "#0d0887"
                          ],
                          [
                            0.1111111111111111,
                            "#46039f"
                          ],
                          [
                            0.2222222222222222,
                            "#7201a8"
                          ],
                          [
                            0.3333333333333333,
                            "#9c179e"
                          ],
                          [
                            0.4444444444444444,
                            "#bd3786"
                          ],
                          [
                            0.5555555555555556,
                            "#d8576b"
                          ],
                          [
                            0.6666666666666666,
                            "#ed7953"
                          ],
                          [
                            0.7777777777777778,
                            "#fb9f3a"
                          ],
                          [
                            0.8888888888888888,
                            "#fdca26"
                          ],
                          [
                            1,
                            "#f0f921"
                          ]
                        ],
                        "type": "histogram2dcontour"
                      }
                    ],
                    "mesh3d": [
                      {
                        "colorbar": {
                          "outlinewidth": 0,
                          "ticks": ""
                        },
                        "type": "mesh3d"
                      }
                    ],
                    "parcoords": [
                      {
                        "line": {
                          "colorbar": {
                            "outlinewidth": 0,
                            "ticks": ""
                          }
                        },
                        "type": "parcoords"
                      }
                    ],
                    "pie": [
                      {
                        "automargin": true,
                        "type": "pie"
                      }
                    ],
                    "scatter": [
                      {
                        "marker": {
                          "line": {
                            "color": "#283442"
                          }
                        },
                        "type": "scatter"
                      }
                    ],
                    "scatter3d": [
                      {
                        "line": {
                          "colorbar": {
                            "outlinewidth": 0,
                            "ticks": ""
                          }
                        },
                        "marker": {
                          "colorbar": {
                            "outlinewidth": 0,
                            "ticks": ""
                          }
                        },
                        "type": "scatter3d"
                      }
                    ],
                    "scattercarpet": [
                      {
                        "marker": {
                          "colorbar": {
                            "outlinewidth": 0,
                            "ticks": ""
                          }
                        },
                        "type": "scattercarpet"
                      }
                    ],
                    "scattergeo": [
                      {
                        "marker": {
                          "colorbar": {
                            "outlinewidth": 0,
                            "ticks": ""
                          }
                        },
                        "type": "scattergeo"
                      }
                    ],
                    "scattergl": [
                      {
                        "marker": {
                          "line": {
                            "color": "#283442"
                          }
                        },
                        "type": "scattergl"
                      }
                    ],
                    "scattermap": [
                      {
                        "marker": {
                          "colorbar": {
                            "outlinewidth": 0,
                            "ticks": ""
                          }
                        },
                        "type": "scattermap"
                      }
                    ],
                    "scattermapbox": [
                      {
                        "marker": {
                          "colorbar": {
                            "outlinewidth": 0,
                            "ticks": ""
                          }
                        },
                        "type": "scattermapbox"
                      }
                    ],
                    "scatterpolar": [
                      {
                        "marker": {
                          "colorbar": {
                            "outlinewidth": 0,
                            "ticks": ""
                          }
                        },
                        "type": "scatterpolar"
                      }
                    ],
                    "scatterpolargl": [
                      {
                        "marker": {
                          "colorbar": {
                            "outlinewidth": 0,
                            "ticks": ""
                          }
                        },
                        "type": "scatterpolargl"
                      }
                    ],
                    "scatterternary": [
                      {
                        "marker": {
                          "colorbar": {
                            "outlinewidth": 0,
                            "ticks": ""
                          }
                        },
                        "type": "scatterternary"
                      }
                    ],
                    "surface": [
                      {
                        "colorbar": {
                          "outlinewidth": 0,
                          "ticks": ""
                        },
                        "colorscale": [
                          [
                            0,
                            "#0d0887"
                          ],
                          [
                            0.1111111111111111,
                            "#46039f"
                          ],
                          [
                            0.2222222222222222,
                            "#7201a8"
                          ],
                          [
                            0.3333333333333333,
                            "#9c179e"
                          ],
                          [
                            0.4444444444444444,
                            "#bd3786"
                          ],
                          [
                            0.5555555555555556,
                            "#d8576b"
                          ],
                          [
                            0.6666666666666666,
                            "#ed7953"
                          ],
                          [
                            0.7777777777777778,
                            "#fb9f3a"
                          ],
                          [
                            0.8888888888888888,
                            "#fdca26"
                          ],
                          [
                            1,
                            "#f0f921"
                          ]
                        ],
                        "type": "surface"
                      }
                    ],
                    "table": [
                      {
                        "cells": {
                          "fill": {
                            "color": "#506784"
                          },
                          "line": {
                            "color": "rgb(17,17,17)"
                          }
                        },
                        "header": {
                          "fill": {
                            "color": "#2a3f5f"
                          },
                          "line": {
                            "color": "rgb(17,17,17)"
                          }
                        },
                        "type": "table"
                      }
                    ]
                  },
                  "layout": {
                    "annotationdefaults": {
                      "arrowcolor": "#f2f5fa",
                      "arrowhead": 0,
                      "arrowwidth": 1
                    },
                    "autotypenumbers": "strict",
                    "coloraxis": {
                      "colorbar": {
                        "outlinewidth": 0,
                        "ticks": ""
                      }
                    },
                    "colorscale": {
                      "diverging": [
                        [
                          0,
                          "#8e0152"
                        ],
                        [
                          0.1,
                          "#c51b7d"
                        ],
                        [
                          0.2,
                          "#de77ae"
                        ],
                        [
                          0.3,
                          "#f1b6da"
                        ],
                        [
                          0.4,
                          "#fde0ef"
                        ],
                        [
                          0.5,
                          "#f7f7f7"
                        ],
                        [
                          0.6,
                          "#e6f5d0"
                        ],
                        [
                          0.7,
                          "#b8e186"
                        ],
                        [
                          0.8,
                          "#7fbc41"
                        ],
                        [
                          0.9,
                          "#4d9221"
                        ],
                        [
                          1,
                          "#276419"
                        ]
                      ],
                      "sequential": [
                        [
                          0,
                          "#0d0887"
                        ],
                        [
                          0.1111111111111111,
                          "#46039f"
                        ],
                        [
                          0.2222222222222222,
                          "#7201a8"
                        ],
                        [
                          0.3333333333333333,
                          "#9c179e"
                        ],
                        [
                          0.4444444444444444,
                          "#bd3786"
                        ],
                        [
                          0.5555555555555556,
                          "#d8576b"
                        ],
                        [
                          0.6666666666666666,
                          "#ed7953"
                        ],
                        [
                          0.7777777777777778,
                          "#fb9f3a"
                        ],
                        [
                          0.8888888888888888,
                          "#fdca26"
                        ],
                        [
                          1,
                          "#f0f921"
                        ]
                      ],
                      "sequentialminus": [
                        [
                          0,
                          "#0d0887"
                        ],
                        [
                          0.1111111111111111,
                          "#46039f"
                        ],
                        [
                          0.2222222222222222,
                          "#7201a8"
                        ],
                        [
                          0.3333333333333333,
                          "#9c179e"
                        ],
                        [
                          0.4444444444444444,
                          "#bd3786"
                        ],
                        [
                          0.5555555555555556,
                          "#d8576b"
                        ],
                        [
                          0.6666666666666666,
                          "#ed7953"
                        ],
                        [
                          0.7777777777777778,
                          "#fb9f3a"
                        ],
                        [
                          0.8888888888888888,
                          "#fdca26"
                        ],
                        [
                          1,
                          "#f0f921"
                        ]
                      ]
                    },
                    "colorway": [
                      "#636efa",
                      "#EF553B",
                      "#00cc96",
                      "#ab63fa",
                      "#FFA15A",
                      "#19d3f3",
                      "#FF6692",
                      "#B6E880",
                      "#FF97FF",
                      "#FECB52"
                    ],
                    "font": {
                      "color": "#f2f5fa"
                    },
                    "geo": {
                      "bgcolor": "rgb(17,17,17)",
                      "lakecolor": "rgb(17,17,17)",
                      "landcolor": "rgb(17,17,17)",
                      "showlakes": true,
                      "showland": true,
                      "subunitcolor": "#506784"
                    },
                    "hoverlabel": {
                      "align": "left"
                    },
                    "hovermode": "closest",
                    "mapbox": {
                      "style": "dark"
                    },
                    "paper_bgcolor": "rgb(17,17,17)",
                    "plot_bgcolor": "rgb(17,17,17)",
                    "polar": {
                      "angularaxis": {
                        "gridcolor": "#506784",
                        "linecolor": "#506784",
                        "ticks": ""
                      },
                      "bgcolor": "rgb(17,17,17)",
                      "radialaxis": {
                        "gridcolor": "#506784",
                        "linecolor": "#506784",
                        "ticks": ""
                      }
                    },
                    "scene": {
                      "xaxis": {
                        "backgroundcolor": "rgb(17,17,17)",
                        "gridcolor": "#506784",
                        "gridwidth": 2,
                        "linecolor": "#506784",
                        "showbackground": true,
                        "ticks": "",
                        "zerolinecolor": "#C8D4E3"
                      },
                      "yaxis": {
                        "backgroundcolor": "rgb(17,17,17)",
                        "gridcolor": "#506784",
                        "gridwidth": 2,
                        "linecolor": "#506784",
                        "showbackground": true,
                        "ticks": "",
                        "zerolinecolor": "#C8D4E3"
                      },
                      "zaxis": {
                        "backgroundcolor": "rgb(17,17,17)",
                        "gridcolor": "#506784",
                        "gridwidth": 2,
                        "linecolor": "#506784",
                        "showbackground": true,
                        "ticks": "",
                        "zerolinecolor": "#C8D4E3"
                      }
                    },
                    "shapedefaults": {
                      "line": {
                        "color": "#f2f5fa"
                      }
                    },
                    "sliderdefaults": {
                      "bgcolor": "#C8D4E3",
                      "bordercolor": "rgb(17,17,17)",
                      "borderwidth": 1,
                      "tickwidth": 0
                    },
                    "ternary": {
                      "aaxis": {
                        "gridcolor": "#506784",
                        "linecolor": "#506784",
                        "ticks": ""
                      },
                      "baxis": {
                        "gridcolor": "#506784",
                        "linecolor": "#506784",
                        "ticks": ""
                      },
                      "bgcolor": "rgb(17,17,17)",
                      "caxis": {
                        "gridcolor": "#506784",
                        "linecolor": "#506784",
                        "ticks": ""
                      }
                    },
                    "title": {
                      "x": 0.05
                    },
                    "updatemenudefaults": {
                      "bgcolor": "#506784",
                      "borderwidth": 0
                    },
                    "xaxis": {
                      "automargin": true,
                      "gridcolor": "#283442",
                      "linecolor": "#506784",
                      "ticks": "",
                      "title": {
                        "standoff": 15
                      },
                      "zerolinecolor": "#283442",
                      "zerolinewidth": 2
                    },
                    "yaxis": {
                      "automargin": true,
                      "gridcolor": "#283442",
                      "linecolor": "#506784",
                      "ticks": "",
                      "title": {
                        "standoff": 15
                      },
                      "zerolinecolor": "#283442",
                      "zerolinewidth": 2
                    }
                  }
                },
                "title": {
                  "font": {
                    "size": 20
                  },
                  "text": "Number of people selecting a day (by priority)"
                },
                "updatemenus": [
                  {
                    "buttons": [
                      {
                        "args": [
                          null,
                          {
                            "frame": {
                              "duration": 500,
                              "redraw": true
                            },
                            "fromcurrent": true,
                            "mode": "immediate",
                            "transition": {
                              "duration": 500,
                              "easing": "linear"
                            }
                          }
                        ],
                        "label": "&#9654;",
                        "method": "animate"
                      },
                      {
                        "args": [
                          [
                            null
                          ],
                          {
                            "frame": {
                              "duration": 0,
                              "redraw": true
                            },
                            "fromcurrent": true,
                            "mode": "immediate",
                            "transition": {
                              "duration": 0,
                              "easing": "linear"
                            }
                          }
                        ],
                        "label": "&#9724;",
                        "method": "animate"
                      }
                    ],
                    "direction": "left",
                    "pad": {
                      "r": 10,
                      "t": 70
                    },
                    "showactive": false,
                    "type": "buttons",
                    "x": 0.1,
                    "xanchor": "right",
                    "y": 0,
                    "yanchor": "top"
                  }
                ],
                "xaxis": {
                  "anchor": "y",
                  "domain": [
                    0,
                    1
                  ],
                  "title": {
                    "text": "Date"
                  }
                },
                "yaxis": {
                  "anchor": "x",
                  "domain": [
                    0,
                    1
                  ],
                  "title": {
                    "text": "Number of people"
                  }
                }
              }
            }
          },
          "metadata": {},
          "output_type": "display_data"
        }
      ],
      "source": [
        "priority_counts = defaultdict(lambda: defaultdict(int))\n",
        "\n",
        "for family in family_dataset:\n",
        "    for priority, date in enumerate(family['dates']):\n",
        "        priority_counts[priority][date] += family['n_members']\n",
        "\n",
        "data = []\n",
        "for priority in range(10):\n",
        "    for date, count in priority_counts[priority].items():\n",
        "        data.append({\"priority\": f\"Priority {priority}\", \"date\": date, \"count\": count})\n",
        "\n",
        "df = pd.DataFrame(data)\n",
        "\n",
        "fig1 = px.bar(df,\n",
        "              x=\"date\",\n",
        "              y=\"count\",\n",
        "              animation_frame=\"priority\",\n",
        "              title=\"Number of people selecting a day (by priority)\",\n",
        "              labels={\"date\": \"Date\", \"count\": \"Number of people\", \"priority\": \"Priority\"},\n",
        "              template=\"plotly_dark\",\n",
        "              color_discrete_sequence=[\"lightblue\"])\n",
        "\n",
        "fig1.update_layout(xaxis_title=\"Date\", yaxis_title=\"Number of people\", title_font_size=20, font=dict(size=14))\n",
        "fig1.show()\n"
      ]
    },
    {
      "cell_type": "markdown",
      "metadata": {
        "id": "bXIsezRwBRU1"
      },
      "source": [
        "### Number of people selecting a date as first priority\n",
        "\n",
        "Now let's estimate what will happen if each family visits its first priority. From the graph we see that some days will significantly exceed the maximum number of visitors (especially on Christmas Eve)."
      ]
    },
    {
      "cell_type": "code",
      "execution_count": 8,
      "metadata": {
        "colab": {
          "base_uri": "https://localhost:8080/",
          "height": 576
        },
        "id": "siuR9fuiwvSJ",
        "outputId": "4f316de6-abd9-4480-fffb-5c7a9c3c2560"
      },
      "outputs": [
        {
          "name": "stderr",
          "output_type": "stream",
          "text": [
            "c:\\Users\\azali\\AppData\\Local\\Programs\\Python\\Python39\\lib\\site-packages\\seaborn\\_oldcore.py:1498: FutureWarning:\n",
            "\n",
            "is_categorical_dtype is deprecated and will be removed in a future version. Use isinstance(dtype, CategoricalDtype) instead\n",
            "\n",
            "c:\\Users\\azali\\AppData\\Local\\Programs\\Python\\Python39\\lib\\site-packages\\seaborn\\_oldcore.py:1498: FutureWarning:\n",
            "\n",
            "is_categorical_dtype is deprecated and will be removed in a future version. Use isinstance(dtype, CategoricalDtype) instead\n",
            "\n",
            "c:\\Users\\azali\\AppData\\Local\\Programs\\Python\\Python39\\lib\\site-packages\\seaborn\\_oldcore.py:1498: FutureWarning:\n",
            "\n",
            "is_categorical_dtype is deprecated and will be removed in a future version. Use isinstance(dtype, CategoricalDtype) instead\n",
            "\n"
          ]
        },
        {
          "data": {
            "image/png": "[encoded data removed]",
            "text/plain": [
              "<Figure size 864x432 with 1 Axes>"
            ]
          },
          "metadata": {
            "needs_background": "light"
          },
          "output_type": "display_data"
        }
      ],
      "source": [
        "import pandas as pd\n",
        "\n",
        "first_choice_counts = defaultdict(int)\n",
        "\n",
        "for family in family_dataset:\n",
        "    date = family['dates'][0]\n",
        "    first_choice_counts[date] += family['n_members']\n",
        "\n",
        "df_first_choice = pd.DataFrame(list(first_choice_counts.items()), columns=['Date', 'Number of people'])\n",
        "df_first_choice = df_first_choice.sort_values('Date')\n",
        "\n",
        "plt.figure(figsize=(12, 6))\n",
        "sns.barplot(x=df_first_choice['Date'], y=df_first_choice['Number of people'], color='b')\n",
        "\n",
        "plt.axhline(y=300, color='r', linestyle='--', label=\"Max limit (300)\")\n",
        "plt.xlabel(\"Date\")\n",
        "plt.ylabel(\"Number of people\")\n",
        "plt.title(\"Number of people selecting a date as first priority\")\n",
        "plt.legend()\n",
        "plt.xticks(rotation=90)\n",
        "plt.show()\n"
      ]
    },
    {
      "cell_type": "markdown",
      "metadata": {},
      "source": [
        "### Greedy Algorithm\n",
        "\n",
        "To minimize the overall score, we implement a greedy algorithm that strategically balances family preferences with daily visitor distribution:\n",
        "\n",
        "$$Score = gift\\_cost + P$$\n",
        "$$P = \\sum_{d=100}^{1} \\frac{(N_d - 125)}{400} N_d^{\\left(\\frac{1}{2} + \\frac{|N_d - N_{d+1}|}{50} \\right)}$$\n",
        "\n",
        "Since the visitor distribution penalty has the most significant impact on the total score, our approach is to minimize fluctuations between consecutive days while providing enough flexibility to accommodate family preferences."
      ]
    },
    {
      "cell_type": "code",
      "execution_count": 9,
      "metadata": {},
      "outputs": [
        {
          "name": "stdout",
          "output_type": "stream",
          "text": [
            "Approximal daily rate is 210.03\n"
          ]
        }
      ],
      "source": [
        "DAYS = 100\n",
        "\n",
        "print(f\"Approximal daily rate is {total_visitors / DAYS}\")"
      ]
    },
    {
      "cell_type": "markdown",
      "metadata": {},
      "source": [
        "We will maintain consistent daily visitor counts between 195-225 people per day"
      ]
    },
    {
      "cell_type": "markdown",
      "metadata": {},
      "source": [
        "The algorithm begins by assigning each family to their top-choice day, establishing an initial visitor distribution. Next, it identifies and resolves capacity issues by systematically adjusting assignments. For days exceeding MAX_PEOPLE_PER_DAY visitors, the algorithm reassigns families to alternative days, prioritizing moves that minimize additional penalties while improving the overall balance. Similarly, for days falling below MIN_PEOPLE_PER_DAY visitors, families are strategically moved from other days, focusing on cost-effective adjustments that fill the gap without creating new imbalances elsewhere."
      ]
    },
    {
      "cell_type": "code",
      "execution_count": 57,
      "metadata": {},
      "outputs": [],
      "source": [
        "MIN_PEOPLE_PER_DAY = 200\n",
        "MAX_PEOPLE_PER_DAY = 220\n",
        "PRIORITIES = 10\n",
        "\n",
        "def compute_family_penalty(n_members, priority):\n",
        "    penalties = [0, 50, 50 + 9 * n_members, 100 + 9 * n_members, 200 + 9 * n_members,\n",
        "                 200 + 18 * n_members, 300 + 18 * n_members, 300 + 36 * n_members,\n",
        "                 400 + 36 * n_members, 500 + 235 * n_members, 500 + 434 * n_members]\n",
        "    return penalties[priority]\n",
        "    "
      ]
    },
    {
      "cell_type": "code",
      "execution_count": 49,
      "metadata": {},
      "outputs": [],
      "source": [
        "def find_cheapest_family_to_move_out(overcrowded_day, day_capacity, assignments):\n",
        "    min_cost_per_person = float('inf')\n",
        "    best_family = None\n",
        "\n",
        "    for family in family_dataset:\n",
        "        if assignments[family['id']][0] != overcrowded_day:\n",
        "            continue  # Family not assigned to this day; skip\n",
        "\n",
        "        current_day, current_priority = assignments[family['id']]\n",
        "        current_cost = compute_family_penalty(family['n_members'], current_priority)\n",
        "\n",
        "        # Try next preferences until finding a feasible day\n",
        "        for next_priority in range(current_priority + 1, PRIORITIES): \n",
        "            next_day = family['dates'][next_priority]\n",
        "            if day_capacity[next_day] + family['n_members'] <= MAX_PEOPLE_PER_DAY:\n",
        "                next_cost = compute_family_penalty(family['n_members'], next_priority)\n",
        "                cost_delta = (next_cost - current_cost) / family['n_members']\n",
        "                if cost_delta < min_cost_per_person:\n",
        "                    min_cost_per_person = cost_delta\n",
        "                    best_family = (family, next_day, next_priority)\n",
        "                break  # Only consider the next feasible preference\n",
        "\n",
        "    return best_family  # Returns (family, new_day, new_priority) or None"
      ]
    },
    {
      "cell_type": "code",
      "execution_count": 50,
      "metadata": {},
      "outputs": [],
      "source": [
        "def move_family(best_family, day_capacity, assignments):\n",
        "    if not best_family:\n",
        "        return  # No family to move (edge case)\n",
        "    \n",
        "    family, new_day, new_priority = best_family\n",
        "    old_day, old_priority = assignments[family['id']]\n",
        "    \n",
        "    # Update day counts\n",
        "    day_capacity[old_day] -= family['n_members']\n",
        "    day_capacity[new_day] += family['n_members']\n",
        "    \n",
        "    # Update the family's assignment\n",
        "    assignments[family['id']] = (new_day, new_priority)"
      ]
    },
    {
      "cell_type": "code",
      "execution_count": 51,
      "metadata": {},
      "outputs": [],
      "source": [
        "def find_cheapest_family_to_move_in(undercrowded_day, day_capacity, assignments):\n",
        "    best_family = None\n",
        "    min_cost_per_person = float('inf')\n",
        "\n",
        "    for family in family_dataset:\n",
        "        # print(family['id'])\n",
        "        current_day, current_priority = assignments[family['id']]\n",
        "        current_cost = compute_family_penalty(family['n_members'], current_priority)\n",
        "        # if current day accepts enough participants\n",
        "        if day_capacity[current_day] - family['n_members'] < MIN_PEOPLE_PER_DAY:\n",
        "            continue\n",
        "\n",
        "        for next_priority in range(current_priority + 1, PRIORITIES): \n",
        "            next_day = family['dates'][next_priority]\n",
        "            if next_day == undercrowded_day:\n",
        "                next_cost = compute_family_penalty(family['n_members'], next_priority)\n",
        "                cost_delta = (next_cost - current_cost) / family['n_members']\n",
        "                if cost_delta < min_cost_per_person:\n",
        "                    min_cost_per_person = cost_delta\n",
        "                    best_family = (family, next_day, next_priority)\n",
        "                break  # Only consider the next feasible preference\n",
        "\n",
        "    return best_family  # Returns (family, new_day, new_priority) or None"
      ]
    },
    {
      "cell_type": "code",
      "execution_count": 58,
      "metadata": {},
      "outputs": [],
      "source": [
        "\n",
        "day_capacity = defaultdict(int)  # Stores the number of people assigned to each day\n",
        "assignments = {}  # family_id -> (day, priority)\n",
        "gift_cost = 0\n",
        "\n",
        "# Phase 1: Assign all to 1st choice\n",
        "for family in family_dataset:\n",
        "    day = family['dates'][0]\n",
        "    day_capacity[day] += family['n_members']\n",
        "    assignments[family['id']] = (day, 0)\n",
        "\n",
        "# Phase 2: Fix overcapacity\n",
        "for day in range(1, DAYS+1):\n",
        "    while day_capacity[day] > MAX_PEOPLE_PER_DAY:\n",
        "        # Find family with smallest cost increase per person\n",
        "        best_family = find_cheapest_family_to_move_out(day, day_capacity, assignments)\n",
        "        move_family(best_family, day_capacity, assignments)\n",
        "        if not best_family:\n",
        "            print(f\"Could not reduce number of visitors on day {day}\")\n",
        "            break\n",
        "\n",
        "# Phase 3: Fix undercapacity\n",
        "for day in range(1, DAYS+1):\n",
        "    while day_capacity[day] < MIN_PEOPLE_PER_DAY:\n",
        "        # Find family that benefits most from moving here\n",
        "        best_family = find_cheapest_family_to_move_in(day, day_capacity, assignments)\n",
        "        move_family(best_family, day_capacity, assignments)\n",
        "        if not best_family:\n",
        "            print(f\"Could not increase number of visitors on day {day}\")\n",
        "            break"
      ]
    },
    {
      "cell_type": "code",
      "execution_count": null,
      "metadata": {},
      "outputs": [
        {
          "name": "stderr",
          "output_type": "stream",
          "text": [
            "c:\\Users\\azali\\AppData\\Local\\Programs\\Python\\Python39\\lib\\site-packages\\seaborn\\_oldcore.py:1498: FutureWarning:\n",
            "\n",
            "is_categorical_dtype is deprecated and will be removed in a future version. Use isinstance(dtype, CategoricalDtype) instead\n",
            "\n",
            "c:\\Users\\azali\\AppData\\Local\\Programs\\Python\\Python39\\lib\\site-packages\\seaborn\\_oldcore.py:1498: FutureWarning:\n",
            "\n",
            "is_categorical_dtype is deprecated and will be removed in a future version. Use isinstance(dtype, CategoricalDtype) instead\n",
            "\n",
            "c:\\Users\\azali\\AppData\\Local\\Programs\\Python\\Python39\\lib\\site-packages\\seaborn\\_oldcore.py:1498: FutureWarning:\n",
            "\n",
            "is_categorical_dtype is deprecated and will be removed in a future version. Use isinstance(dtype, CategoricalDtype) instead\n",
            "\n"
          ]
        },
        {
          "data": {
            "image/png": "[encoded data removed]",
            "text/plain": [
              "<Figure size 864x432 with 1 Axes>"
            ]
          },
          "metadata": {
            "needs_background": "light"
          },
          "output_type": "display_data"
        }
      ],
      "source": [
        "df_capacity = pd.DataFrame(list(day_capacity.items()), columns=['Date', 'Number of people'])\n",
        "df_capacity = df_capacity.sort_values('Date')\n",
        "\n",
        "plt.figure(figsize=(12, 6))\n",
        "sns.barplot(x=df_capacity['Date'], y=df_capacity['Number of people'], color='b')\n",
        "\n",
        "plt.axhline(y=MAX_PEOPLE_PER_DAY, color='b', linestyle='-', label=\"Max limit\")\n",
        "plt.axhline(y=MIN_PEOPLE_PER_DAY, color='g', linestyle='-', label=\"Min limit\")\n",
        "plt.xlabel(\"Date\")\n",
        "plt.ylabel(\"Number of people\")\n",
        "plt.title(\"Final Distribution of People Across Days\")\n",
        "plt.legend()\n",
        "plt.xticks(rotation=90)\n",
        "plt.show()\n",
        "\n"
      ]
    },
    {
      "cell_type": "code",
      "execution_count": 54,
      "metadata": {
        "colab": {
          "base_uri": "https://localhost:8080/"
        },
        "id": "JI-M5xTWPVxH",
        "outputId": "e1e48dec-5514-448a-8d11-0d14456f0df1"
      },
      "outputs": [
        {
          "name": "stdout",
          "output_type": "stream",
          "text": [
            "Total Gift Cost: 170350\n",
            "Total Accounting Penalty: 827.8412173780665\n",
            "Score: 171177.84121737807\n"
          ]
        }
      ],
      "source": [
        "# Compute penalties based on the given formula\n",
        "gift_cost = 0\n",
        "penalty = 0\n",
        "\n",
        "for family in family_dataset:\n",
        "    gift_cost += compute_family_penalty(family['n_members'], assignments[family['id']][1])\n",
        "\n",
        "days_sorted = sorted(day_capacity.keys())\n",
        "for i, day in enumerate(days_sorted):\n",
        "    Nd = day_capacity[day]\n",
        "    Nd_next = day_capacity[days_sorted[i+1]] if i < len(days_sorted) - 1 else Nd  # Handle last day case\n",
        "\n",
        "    term = ((Nd - 125) / 400) * (Nd ** (1/2 + abs(Nd - Nd_next) / 50))\n",
        "    penalty += term\n",
        "\n",
        "print(f\"Total Gift Cost: {gift_cost}\")\n",
        "print(f\"Total Accounting Penalty: {penalty}\")\n",
        "print(f\"Score: {gift_cost + penalty}\")\n"
      ]
    },
    {
      "cell_type": "code",
      "execution_count": null,
      "metadata": {},
      "outputs": [],
      "source": [
        "# Side note for my teammates: dealing with overcapacity is earlier than fixing undercapacity because when overcapacity is not fixed all the families which have problem day as a priority can't live their current date. There are not so many visitors on the current date.\n",
        "# Try leaving only phase 1 and phase 3 and look at the plot "
      ]
    }
  ],
  "metadata": {
    "colab": {
      "provenance": []
    },
    "kernelspec": {
      "display_name": "Python 3",
      "name": "python3"
    },
    "language_info": {
      "codemirror_mode": {
        "name": "ipython",
        "version": 3
      },
      "file_extension": ".py",
      "mimetype": "text/x-python",
      "name": "python",
      "nbconvert_exporter": "python",
      "pygments_lexer": "ipython3",
      "version": "3.9.5"
    }
  },
  "nbformat": 4,
  "nbformat_minor": 0
}
